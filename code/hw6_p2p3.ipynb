{
 "cells": [
  {
   "cell_type": "code",
   "execution_count": 1,
   "id": "14bb1022",
   "metadata": {},
   "outputs": [],
   "source": [
    "## Problem 2"
   ]
  },
  {
   "cell_type": "code",
   "execution_count": 12,
   "id": "bf6b1f87",
   "metadata": {},
   "outputs": [],
   "source": [
    "import numpy as np"
   ]
  },
  {
   "cell_type": "code",
   "execution_count": 13,
   "id": "35cddebc",
   "metadata": {},
   "outputs": [],
   "source": [
    "pb = 0.1\n",
    "pe = 0.2\n",
    "pa = np.array([0.9, 0.8, 0.3, 0.1])\n",
    "pj = np.array([0.9, 0.2])\n",
    "pm = np.array([0.7, 0.1])"
   ]
  },
  {
   "cell_type": "code",
   "execution_count": 14,
   "id": "39eb7219",
   "metadata": {},
   "outputs": [],
   "source": [
    "### Earthquake did not happen"
   ]
  },
  {
   "cell_type": "code",
   "execution_count": 15,
   "id": "159c045f",
   "metadata": {},
   "outputs": [
    {
     "data": {
      "text/plain": [
       "0.04064000000000001"
      ]
     },
     "execution_count": 15,
     "metadata": {},
     "output_type": "execute_result"
    }
   ],
   "source": [
    "num = pb * (1 - pe) * (pa[1] * pj[0] * pm[0] + (1 - pa[1]) * pj[1] * pm[1])\n",
    "\n",
    "num"
   ]
  },
  {
   "cell_type": "code",
   "execution_count": 16,
   "id": "fb27a966",
   "metadata": {},
   "outputs": [
    {
     "data": {
      "text/plain": [
       "0.05832000000000001"
      ]
     },
     "execution_count": 16,
     "metadata": {},
     "output_type": "execute_result"
    }
   ],
   "source": [
    "nnum = (1 - pb) * (1 - pe) * (pa[3] * pj[0] * pm[0] + (1 - pa[3]) * pj[1] * pm[1])\n",
    "\n",
    "nnum"
   ]
  },
  {
   "cell_type": "code",
   "execution_count": 17,
   "id": "82f0caa9",
   "metadata": {},
   "outputs": [
    {
     "data": {
      "text/plain": [
       "0.4106709781729992"
      ]
     },
     "execution_count": 17,
     "metadata": {},
     "output_type": "execute_result"
    }
   ],
   "source": [
    "num / (num + nnum)"
   ]
  },
  {
   "cell_type": "code",
   "execution_count": 18,
   "id": "7806570c",
   "metadata": {},
   "outputs": [],
   "source": [
    "### Earthquake did happen"
   ]
  },
  {
   "cell_type": "code",
   "execution_count": 19,
   "id": "1d364588",
   "metadata": {},
   "outputs": [
    {
     "data": {
      "text/plain": [
       "0.011380000000000001"
      ]
     },
     "execution_count": 19,
     "metadata": {},
     "output_type": "execute_result"
    }
   ],
   "source": [
    "num = pb * pe * (pa[0] * pj[0] * pm[0] + (1 - pa[0]) * pj[1] * pm[1])\n",
    "\n",
    "num"
   ]
  },
  {
   "cell_type": "code",
   "execution_count": 20,
   "id": "d9fbbfe4",
   "metadata": {},
   "outputs": [
    {
     "data": {
      "text/plain": [
       "0.03654000000000001"
      ]
     },
     "execution_count": 20,
     "metadata": {},
     "output_type": "execute_result"
    }
   ],
   "source": [
    "nnum = (1 - pb) * pe * (pa[2] * pj[0] * pm[0] + (1 - pa[2]) * pj[1] * pm[1])\n",
    "\n",
    "nnum"
   ]
  },
  {
   "cell_type": "code",
   "execution_count": 21,
   "id": "283e155f",
   "metadata": {},
   "outputs": [
    {
     "data": {
      "text/plain": [
       "0.23747913188647743"
      ]
     },
     "execution_count": 21,
     "metadata": {},
     "output_type": "execute_result"
    }
   ],
   "source": [
    "num / (num + nnum)"
   ]
  },
  {
   "cell_type": "code",
   "execution_count": null,
   "id": "bcc49fb4",
   "metadata": {},
   "outputs": [],
   "source": [
    "## Problem 3"
   ]
  },
  {
   "cell_type": "code",
   "execution_count": 23,
   "id": "da9b55d9",
   "metadata": {},
   "outputs": [],
   "source": [
    "import numpy as np"
   ]
  },
  {
   "cell_type": "code",
   "execution_count": 22,
   "id": "04e4b41f",
   "metadata": {},
   "outputs": [
    {
     "data": {
      "text/plain": [
       "array([[[0.36, 0.04],\n",
       "        [0.02, 0.08]],\n",
       "\n",
       "       [[0.09, 0.01],\n",
       "        [0.08, 0.32]]])"
      ]
     },
     "execution_count": 22,
     "metadata": {},
     "output_type": "execute_result"
    }
   ],
   "source": [
    "p = np.array([[[36, 4], [2, 8]], [[9, 1], [8, 32]]])\n",
    "\n",
    "# Normalize into probabilities\n",
    "p = p/p.sum()\n",
    "\n",
    "p"
   ]
  },
  {
   "cell_type": "code",
   "execution_count": 40,
   "id": "17175d65",
   "metadata": {},
   "outputs": [],
   "source": [
    "def info(i0, i1):\n",
    "    i2 = 3 - i0 - i1\n",
    "    p01 = p.sum(axis=i2)\n",
    "    p0 = p01.sum(axis=0)\n",
    "    p1 = p01.sum(axis=1)\n",
    "    pprod = (np.expand_dims(p0, axis=1) @ np.expand_dims(p1, axis=0)).T\n",
    "    return np.sum(p01 * (np.log2(p01) - np.log2(pprod)))"
   ]
  },
  {
   "cell_type": "code",
   "execution_count": 41,
   "id": "1c241ada",
   "metadata": {},
   "outputs": [
    {
     "data": {
      "text/plain": [
       "(0.2780719051126377, 0.1328449618090321, 0.3973126097494868)"
      ]
     },
     "execution_count": 41,
     "metadata": {},
     "output_type": "execute_result"
    }
   ],
   "source": [
    "info(0, 1), info(0, 2), info(1, 2)"
   ]
  },
  {
   "cell_type": "markdown",
   "id": "5fd296bc",
   "metadata": {},
   "source": [
    "Maximum Spanning Tree: X -> Y -> Z"
   ]
  },
  {
   "cell_type": "code",
   "execution_count": 39,
   "id": "031a8e00",
   "metadata": {},
   "outputs": [
    {
     "data": {
      "text/plain": [
       "(array([[0.38, 0.12],\n",
       "        [0.17, 0.33]]),\n",
       " array([0.55, 0.45]),\n",
       " array([0.5, 0.5]),\n",
       " array([[0.275, 0.225],\n",
       "        [0.275, 0.225]]),\n",
       " 0.1328449618090321)"
      ]
     },
     "execution_count": 39,
     "metadata": {},
     "output_type": "execute_result"
    }
   ],
   "source": [
    "p01 = p.sum(axis=1)\n",
    "p0 = p01.sum(axis=0)\n",
    "p1 = p01.sum(axis=1)\n",
    "pprod = (np.expand_dims(p0, axis=1) @ np.expand_dims(p1, axis=0)).T\n",
    "\n",
    "p01, p0, p1, pprod, np.sum(p01 * (np.log2(p01) - np.log2(pprod)))"
   ]
  },
  {
   "cell_type": "code",
   "execution_count": null,
   "id": "bb9dec15",
   "metadata": {},
   "outputs": [],
   "source": []
  }
 ],
 "metadata": {
  "kernelspec": {
   "display_name": "Python 3 (ipykernel)",
   "language": "python",
   "name": "python3"
  },
  "language_info": {
   "codemirror_mode": {
    "name": "ipython",
    "version": 3
   },
   "file_extension": ".py",
   "mimetype": "text/x-python",
   "name": "python",
   "nbconvert_exporter": "python",
   "pygments_lexer": "ipython3",
   "version": "3.11.5"
  }
 },
 "nbformat": 4,
 "nbformat_minor": 5
}
